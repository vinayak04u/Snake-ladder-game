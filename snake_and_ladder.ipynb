{
  "nbformat": 4,
  "nbformat_minor": 0,
  "metadata": {
    "colab": {
      "name": "snake and ladder",
      "provenance": [],
      "collapsed_sections": []
    },
    "kernelspec": {
      "name": "python3",
      "display_name": "Python 3"
    }
  },
  "cells": [
    {
      "cell_type": "code",
      "metadata": {
        "id": "eOGmtA29DWXg"
      },
      "source": [
        "import random "
      ],
      "execution_count": 120,
      "outputs": []
    },
    {
      "cell_type": "code",
      "metadata": {
        "colab": {
          "base_uri": "https://localhost:8080/"
        },
        "id": "bJb-E0xtDh_r",
        "outputId": "3cba1511-d8cf-48c4-f62e-376acc2b83bf"
      },
      "source": [
        "print(\"#####   Welcome to the world of HKM   #######\")"
      ],
      "execution_count": 121,
      "outputs": [
        {
          "output_type": "stream",
          "text": [
            "#####   Welcome to the world of HKM   #######\n"
          ],
          "name": "stdout"
        }
      ]
    },
    {
      "cell_type": "code",
      "metadata": {
        "colab": {
          "base_uri": "https://localhost:8080/"
        },
        "id": "TeHjPS-dDpHv",
        "outputId": "3e549a1c-6b11-4b66-a1b1-c27689e2c347"
      },
      "source": [
        "player1 = input(\"Name Of Player 1 :\\t\")\r\n",
        "player2= input(\"Name of Player 2:\\t\")"
      ],
      "execution_count": 122,
      "outputs": [
        {
          "output_type": "stream",
          "text": [
            "Name Of Player 1 :\tvin\n",
            "Name of Player 2:\tyak\n"
          ],
          "name": "stdout"
        }
      ]
    },
    {
      "cell_type": "code",
      "metadata": {
        "colab": {
          "base_uri": "https://localhost:8080/"
        },
        "id": "6OAiiBMTDp2G",
        "outputId": "b487bde7-32a3-4c1a-86f3-ea3a842f08b2"
      },
      "source": [
        "print(\"Welcome mr/mrs {} and {}\".format(player1,player2))\r\n",
        "print(\"Let's Start the Game\")"
      ],
      "execution_count": 125,
      "outputs": [
        {
          "output_type": "stream",
          "text": [
            "Welcome mr/mrs vin and yak\n",
            "Let's Start the Game\n"
          ],
          "name": "stdout"
        }
      ]
    },
    {
      "cell_type": "markdown",
      "metadata": {
        "id": "AY7cOLrwEGdV"
      },
      "source": [
        "**Variable**"
      ]
    },
    {
      "cell_type": "code",
      "metadata": {
        "id": "6dOH1QNmD2Qo"
      },
      "source": [
        "snake= {17 : 7, 54 : 34, 62 : 19, 98 : 79}    # snake key define the head of the snake while value define the tail of the snake\r\n",
        "ladder= {3 : 38, 24 : 33, 42 : 93, 72 : 84}   # value define the tail of the ladder while key define the head of the ladder\r\n",
        "score1=0   # initial score of player 1        # initial score of player 1\r\n",
        "score2=0   # initial score of player 2        # initial score of the player 2\r\n",
        "manuallist= list(range(1,21))                 # for manual mode it define that value lie between 1 to 20"
      ],
      "execution_count": 133,
      "outputs": []
    },
    {
      "cell_type": "markdown",
      "metadata": {
        "id": "E9j_cSel-Swx"
      },
      "source": [
        "**Give option to choose the player who want to do first**"
      ]
    },
    {
      "cell_type": "code",
      "metadata": {
        "colab": {
          "base_uri": "https://localhost:8080/"
        },
        "id": "AIZ5DTC2EMEy",
        "outputId": "6b262d8c-405c-4073-ff01-5914496b82b5"
      },
      "source": [
        "print(\"Initial position of player 1 : {}\".format(score1))\r\n",
        "print(\"Initial position of player 2 : {}\".format(score2))\r\n",
        "while True:\r\n",
        "  starting_player= input(\"Enter player name who want to roll dice First:\\t\")  #starting player\r\n",
        "  if starting_player==player1:\r\n",
        "      c=1;\r\n",
        "      print(\"First chance goes to {}\".format(player1))\r\n",
        "      break;\r\n",
        "  elif starting_player==player2:\r\n",
        "      c=2;\r\n",
        "      print(\"First  chance goes to {}\".format(player2))\r\n",
        "      break;\r\n",
        "  else:\r\n",
        "    print(\"Enter name correctly\")\r\n",
        "\r\n",
        "ran=c"
      ],
      "execution_count": 135,
      "outputs": [
        {
          "output_type": "stream",
          "text": [
            "Initial position of player 1 : 100\n",
            "Initial position of player 2 : 73\n",
            "Enter player name who want to roll dice First:\tvin\n",
            "First chance goes to vin\n"
          ],
          "name": "stdout"
        }
      ]
    },
    {
      "cell_type": "markdown",
      "metadata": {
        "id": "ND5MF56W-vh2"
      },
      "source": [
        "***Choose between Auto and Manual Mode***"
      ]
    },
    {
      "cell_type": "code",
      "metadata": {
        "colab": {
          "base_uri": "https://localhost:8080/"
        },
        "id": "ceL58aelQ4Q5",
        "outputId": "3f46d413-93ef-46b3-f569-a6f0a86e14b6"
      },
      "source": [
        "while True:\r\n",
        "  mode = int(input(\"press 1 \\rfor Auto Mode \\n Press 2 \\rfor Manual Mode\\n\"))\r\n",
        "  if mode==1 or mode==2:\r\n",
        "    break;\r\n",
        "  else:\r\n",
        "    mode = int(input(\"press 1 \\rfor Auto Mode \\n Press 2 \\rfor Manual Mode\\t\"))\r\n"
      ],
      "execution_count": 130,
      "outputs": [
        {
          "output_type": "stream",
          "text": [
            "press 1 \rfor Auto Mode \n",
            " Press 2 \rfor Manual Mode\n",
            "2\n"
          ],
          "name": "stdout"
        }
      ]
    },
    {
      "cell_type": "markdown",
      "metadata": {
        "id": "3y9ZljZF-6wh"
      },
      "source": [
        "**If mode equal to 1  for the Manual Mode where you have to choose number between 1 to 20**"
      ]
    },
    {
      "cell_type": "markdown",
      "metadata": {
        "id": "yTIAxPC2AaWL"
      },
      "source": [
        "**If mode equal to 1  for the Auto Mode where just type \"roll\" to generate random number between 1 to 6**"
      ]
    },
    {
      "cell_type": "code",
      "metadata": {
        "colab": {
          "base_uri": "https://localhost:8080/"
        },
        "id": "IQR4ZDCyEOhR",
        "outputId": "ba28416e-1b49-4a69-94c4-a31cc18aae65"
      },
      "source": [
        "print(snake)\r\n",
        "print(ladder)\r\n",
        "\r\n",
        "# this is for the Automatic mode\r\n",
        "if mode==1:\r\n",
        "  print(\"Welcome to the Auto Mode\")\r\n",
        "  while score1<=100 and score2<=100:\r\n",
        "    if c==1:   # player1 turn to roll the dice\r\n",
        "      roll= input(\"Type roll to roll the dice  Mr.{}:\\t\".format(player1))\r\n",
        "      if roll==\"roll\":\r\n",
        "          choice= random.randint(1,6)\r\n",
        "          print(\"U get {}\",format(choice))\r\n",
        "          ran=score1   # just keep the reference if in case the number exceed than 100 than just put this value to score 1 again\r\n",
        "          score1=score1+choice\r\n",
        "  # check whether the score is less than 100 or not in case score greater than 100 in that case donot add\r\n",
        "          if score1<=100:\r\n",
        "              score1=score1\r\n",
        "          else:\r\n",
        "            score1=ran\r\n",
        "            print(\"Sorry u need {}\".format(100-score1))\r\n",
        "             #checking there is the snake at that particular position or not\r\n",
        "          for i in snake.keys():\r\n",
        "            if i==score1:\r\n",
        "                score1=snake[i]\r\n",
        "                print(\"Oh No u are bitten by snake and fall down to {}\".format(snake[i]))\r\n",
        "                break\r\n",
        "          #checking whether there is ladder at that particular position or not\r\n",
        "          for i in ladder.keys():\r\n",
        "              if i==score1:       \r\n",
        "                  score1=score1+ladder[i]\r\n",
        "                  if score1 <=100:\r\n",
        "                    score1=score1\r\n",
        "                  else:\r\n",
        "                    score1=100\r\n",
        "                  print(\"Great u got a ladder to {}\".format(ladder[i]))\r\n",
        "                  break\r\n",
        "          print(\"Current positiion of {} is {}\".format(player1,score1))\r\n",
        "          print(\"Current positiion of {} is {}\".format(player2,score2))\r\n",
        "          if score1==100:\r\n",
        "              print(\"Hurray Mr.{} won the game\".format(player1))\r\n",
        "              break\r\n",
        "\r\n",
        "          c=2\r\n",
        "          print(\"----------------------------------------------------\")\r\n",
        "          print(\"U chance Mr.{}\".format(player2))\r\n",
        "          \r\n",
        "      else:\r\n",
        "          print(\"Type roll to roll the dice\")\r\n",
        "    elif c==2: # player 2 chance to roll the dice\r\n",
        "      roll= input(\"Type roll to roll the dice  Mr.{}:\\t\".format(player2))\r\n",
        "      if roll==\"roll\":\r\n",
        "          choice= random.randint(1,6)\r\n",
        "          print(\"U get {}\",format(choice))\r\n",
        "          ran=score2\r\n",
        "          score2=score2+choice\r\n",
        "          if score2<=100:\r\n",
        "              score2=score2\r\n",
        "          else:\r\n",
        "            score2=ran\r\n",
        "            print(\"Sorry u need {}\".format(100-score2))\r\n",
        "          for i in snake.keys():\r\n",
        "            if i==score2:\r\n",
        "                score2=snake[i]\r\n",
        "                print(\"Oh No u are bitten by snake and fall down to {}\".format(snake[i]))\r\n",
        "                break\r\n",
        "          for i in ladder.keys():\r\n",
        "              if i==score2:   \r\n",
        "                  ran=score2    \r\n",
        "                  score2=score2+ladder[i]\r\n",
        "                  if score2 <=100:\r\n",
        "                    score2=score2\r\n",
        "                  else:\r\n",
        "                    score2=100\r\n",
        "                  print(\"Great u got a ladder to {}\".format(ladder[i]))\r\n",
        "                  break\r\n",
        "          print(\"Current positiion of {} is {}\".format(player1,score1))\r\n",
        "          print(\"Current positiion of {} is {},{}\".format(player2,score2,type(score2)))\r\n",
        "          if score2==100:\r\n",
        "              print(\"Hurray Mr.{} won the game\".format(player2))\r\n",
        "              break\r\n",
        "          c=1\r\n",
        "          print(\"----------------------------------------------------\")\r\n",
        "          print(\"U chance Mr.{}\".format(player1))\r\n",
        "      else:\r\n",
        "          print(\"Type roll to roll the dice Mr.{}\".format(player2))\r\n",
        "\r\n",
        "  # this is for the manual mode\r\n",
        "elif mode==2:\r\n",
        "  print(\"Welcome to the Manual Mode\")\r\n",
        "  while score1<=100 and score2<=100:\r\n",
        "    if c==1:   # player1 turn to choose the number\r\n",
        "      roll= int(input(\"Enter Number between 1 to 20 inclusive 1 and 20 Mr.{}:\\t\".format(player1)))\r\n",
        "      if roll in manuallist:     # check whether number lie between the 1 to 20 or not\r\n",
        "          print(\"U Choice {}\",format(roll)) \r\n",
        "          ran=score1\r\n",
        "          score1=score1+roll\r\n",
        "          # check whether the score is less than 100 or not in case score greater than 100 in that case donot add\r\n",
        "          if score1<=100:\r\n",
        "              score1=score1 \r\n",
        "          else:          \r\n",
        "            score1=ran\r\n",
        "            print(\"Sorry u need {}\".format(100-score1))\r\n",
        "            #checking there is the snake at that particular position or not\r\n",
        "          for i in snake.keys():\r\n",
        "            if i==score1:\r\n",
        "                score1=snake[i]\r\n",
        "                print(\"Oh No u are bitten by snake and fall down to {}\".format(snake[i]))\r\n",
        "                break\r\n",
        "                #checking whether there is ladder at that particular position or not\r\n",
        "          for i in ladder.keys():\r\n",
        "              if i==score1:       \r\n",
        "                  score1=score1+ladder[i]\r\n",
        "                  if score1 <=100:\r\n",
        "                    score1=score1\r\n",
        "                  else:\r\n",
        "                    score1=100\r\n",
        "                  print(\"Great u got a ladder to {}\".format(ladder[i]))\r\n",
        "                  break\r\n",
        "          print(\"Current positiion of {} is {}\".format(player1,score1))\r\n",
        "          print(\"Current positiion of {} is {}\".format(player2,score2))\r\n",
        "          if score1==100:\r\n",
        "              print(\"Hurray Mr.{} won the game\".format(player1))\r\n",
        "              break\r\n",
        "\r\n",
        "          c=2\r\n",
        "          print(\"----------------------------------------------------\")\r\n",
        "          print(\"U chance Mr.{}\".format(player2))\r\n",
        "          \r\n",
        "      else:\r\n",
        "          print(\"Enter Number between 1 to 20\")\r\n",
        "    elif c==2:   # player1 turn to choose the number\r\n",
        "      roll= int(input(\"Enter Number between 1 to 20 inclusive 1 and 20 Mr.{}:\\t\".format(player2)))\r\n",
        "      if roll in manuallist:    # check whether number lie between the 1 to 20 or not\r\n",
        "          print(\"U get {}\",format(roll))\r\n",
        "          ran=score2\r\n",
        "          score2=score2+roll\r\n",
        "             # check whether the score is less than 100 or not in case score greater than 100 in that case donot add\r\n",
        "          if score2<=100:\r\n",
        "              score2=score2\r\n",
        "          else:\r\n",
        "            score2=ran\r\n",
        "            print(\"Sorry u need {}\".format(100-score2))\r\n",
        "          #checking there is the snake at that particular position or not\r\n",
        "          for i in snake.keys():\r\n",
        "            if i==score2:\r\n",
        "                score2=snake[i]\r\n",
        "                print(\"Oh No u are bitten by snake and fall down to {}\".format(snake[i]))\r\n",
        "                break\r\n",
        "          #checking whether there is ladder at that particular position or not\r\n",
        "          for i in ladder.keys():\r\n",
        "              if i==score2:   \r\n",
        "                  ran=score2    \r\n",
        "                  score2=score2+ladder[i]\r\n",
        "                  if score2 <=100:\r\n",
        "                    score2=score2\r\n",
        "                  else:\r\n",
        "                    score2=100\r\n",
        "                  print(\"Great u got a ladder to {}\".format(ladder[i]))\r\n",
        "                  break\r\n",
        "          print(\"Current positiion of {} is {}\".format(player1,score1))\r\n",
        "          print(\"Current positiion of {} is {}\".format(player2,score2))\r\n",
        "          if score2==100:\r\n",
        "              print(\"Hurray Mr.{} won the game\".format(player2))\r\n",
        "              break\r\n",
        "          c=1\r\n",
        "          print(\"----------------------------------------------------\")\r\n",
        "          print(\"U chance Mr.{}\".format(player1))\r\n",
        "      else:\r\n",
        "          print(\"Enter Number between 1 to 20 Mr.{}\".format(player2))\r\n",
        "\r\n",
        "print(\"Succesffully Finished\")  \r\n"
      ],
      "execution_count": 134,
      "outputs": [
        {
          "output_type": "stream",
          "text": [
            "{17: 7, 54: 34, 62: 19, 98: 79}\n",
            "{3: 38, 24: 33, 42: 93, 72: 84}\n",
            "Welcome to the Manual Mode\n",
            "Enter Number between 1 to 20 inclusive 1 and 20 Mr.vin:\t10\n",
            "U Choice {} 10\n",
            "Current positiion of vin is 10\n",
            "Current positiion of yak is 0\n",
            "----------------------------------------------------\n",
            "U chance Mr.yak\n",
            "Enter Number between 1 to 20 inclusive 1 and 20 Mr.yak:\t20\n",
            "U get {} 20\n",
            "Current positiion of vin is 10\n",
            "Current positiion of yak is 20\n",
            "----------------------------------------------------\n",
            "U chance Mr.vin\n",
            "Enter Number between 1 to 20 inclusive 1 and 20 Mr.vin:\t20\n",
            "U Choice {} 20\n",
            "Current positiion of vin is 30\n",
            "Current positiion of yak is 20\n",
            "----------------------------------------------------\n",
            "U chance Mr.yak\n",
            "Enter Number between 1 to 20 inclusive 1 and 20 Mr.yak:\t29\n",
            "Enter Number between 1 to 20 Mr.yak\n",
            "Enter Number between 1 to 20 inclusive 1 and 20 Mr.yak:\t19\n",
            "U get {} 19\n",
            "Current positiion of vin is 30\n",
            "Current positiion of yak is 39\n",
            "----------------------------------------------------\n",
            "U chance Mr.vin\n",
            "Enter Number between 1 to 20 inclusive 1 and 20 Mr.vin:\t14\n",
            "U Choice {} 14\n",
            "Current positiion of vin is 44\n",
            "Current positiion of yak is 39\n",
            "----------------------------------------------------\n",
            "U chance Mr.yak\n",
            "Enter Number between 1 to 20 inclusive 1 and 20 Mr.yak:\t15\n",
            "U get {} 15\n",
            "Oh No u are bitten by snake and fall down to 34\n",
            "Current positiion of vin is 44\n",
            "Current positiion of yak is 34\n",
            "----------------------------------------------------\n",
            "U chance Mr.vin\n",
            "Enter Number between 1 to 20 inclusive 1 and 20 Mr.vin:\t20\n",
            "U Choice {} 20\n",
            "Current positiion of vin is 64\n",
            "Current positiion of yak is 34\n",
            "----------------------------------------------------\n",
            "U chance Mr.yak\n",
            "Enter Number between 1 to 20 inclusive 1 and 20 Mr.yak:\t20\n",
            "U get {} 20\n",
            "Oh No u are bitten by snake and fall down to 34\n",
            "Current positiion of vin is 64\n",
            "Current positiion of yak is 34\n",
            "----------------------------------------------------\n",
            "U chance Mr.vin\n",
            "Enter Number between 1 to 20 inclusive 1 and 20 Mr.vin:\t20\n",
            "U Choice {} 20\n",
            "Current positiion of vin is 84\n",
            "Current positiion of yak is 34\n",
            "----------------------------------------------------\n",
            "U chance Mr.yak\n",
            "Enter Number between 1 to 20 inclusive 1 and 20 Mr.yak:\t20\n",
            "U get {} 20\n",
            "Oh No u are bitten by snake and fall down to 34\n",
            "Current positiion of vin is 84\n",
            "Current positiion of yak is 34\n",
            "----------------------------------------------------\n",
            "U chance Mr.vin\n",
            "Enter Number between 1 to 20 inclusive 1 and 20 Mr.vin:\t30\n",
            "Enter Number between 1 to 20\n",
            "Enter Number between 1 to 20 inclusive 1 and 20 Mr.vin:\t20\n",
            "U Choice {} 20\n",
            "Sorry u need 16\n",
            "Current positiion of vin is 84\n",
            "Current positiion of yak is 34\n",
            "----------------------------------------------------\n",
            "U chance Mr.yak\n",
            "Enter Number between 1 to 20 inclusive 1 and 20 Mr.yak:\t19\n",
            "U get {} 19\n",
            "Current positiion of vin is 84\n",
            "Current positiion of yak is 53\n",
            "----------------------------------------------------\n",
            "U chance Mr.vin\n",
            "Enter Number between 1 to 20 inclusive 1 and 20 Mr.vin:\t15\n",
            "U Choice {} 15\n",
            "Current positiion of vin is 99\n",
            "Current positiion of yak is 53\n",
            "----------------------------------------------------\n",
            "U chance Mr.yak\n",
            "Enter Number between 1 to 20 inclusive 1 and 20 Mr.yak:\t20\n",
            "U get {} 20\n",
            "Current positiion of vin is 99\n",
            "Current positiion of yak is 73\n",
            "----------------------------------------------------\n",
            "U chance Mr.vin\n",
            "Enter Number between 1 to 20 inclusive 1 and 20 Mr.vin:\t1\n",
            "U Choice {} 1\n",
            "Current positiion of vin is 100\n",
            "Current positiion of yak is 73\n",
            "Hurray Mr.vin won the game\n",
            "Succesffully Finished\n"
          ],
          "name": "stdout"
        }
      ]
    },
    {
      "cell_type": "markdown",
      "metadata": {
        "id": "2oF27XQ7A7-w"
      },
      "source": [
        "**NAME  :-   VINAYAK KUMAR**\r\n",
        "**ROLL NO  :-  1806086** \r\n",
        "**BRANCH   :-  IT**\r\n",
        "**ASSIGNMENT - 1**\r\n",
        "**EMAIL : 1806086@kiit.ac.in **"
      ]
    },
    {
      "cell_type": "code",
      "metadata": {
        "id": "ndl4UFhq4_l0"
      },
      "source": [
        ""
      ],
      "execution_count": null,
      "outputs": []
    }
  ]
}